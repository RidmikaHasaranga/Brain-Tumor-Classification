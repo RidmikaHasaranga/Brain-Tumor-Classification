{
 "cells": [
  {
   "cell_type": "markdown",
   "metadata": {},
   "source": [
    ".mat file and save them as png"
   ]
  },
  {
   "cell_type": "code",
   "execution_count": 3,
   "metadata": {},
   "outputs": [
    {
     "name": "stderr",
     "output_type": "stream",
     "text": [
      "Processing:   0%|          | 0/3067 [00:00<?, ?it/s]C:\\Users\\ridmi\\AppData\\Local\\Temp\\ipykernel_7976\\3560803351.py:30: DeprecationWarning: Conversion of an array with ndim > 0 to a scalar is deprecated, and will error in future. Ensure you extract a single element from your array before performing this operation. (Deprecated NumPy 1.25.)\n",
      "  label = int(mat_file[0])\n",
      "Processing: 100%|██████████| 3067/3067 [00:55<00:00, 54.78it/s]"
     ]
    },
    {
     "name": "stdout",
     "output_type": "stream",
     "text": [
      "Error processing images: [Errno 2] No such file or directory: 'D:\\\\IIT\\\\Subjects\\\\(4606)Machine Vision\\\\CW\\\\Develo\\\\DataSet\\\\U-Net\\\\mat_data\\\\images.mat'\n",
      "Error processing masks: [Errno 2] No such file or directory: 'D:\\\\IIT\\\\Subjects\\\\(4606)Machine Vision\\\\CW\\\\Develo\\\\DataSet\\\\U-Net\\\\mat_data\\\\masks.mat'\n",
      "Error processing npy: [Errno 2] No such file or directory: 'D:\\\\IIT\\\\Subjects\\\\(4606)Machine Vision\\\\CW\\\\Develo\\\\DataSet\\\\U-Net\\\\mat_data\\\\npy.mat'\n"
     ]
    },
    {
     "name": "stderr",
     "output_type": "stream",
     "text": [
      "\n"
     ]
    }
   ],
   "source": [
    "import os\n",
    "import hdf5storage\n",
    "import cv2\n",
    "from tqdm import tqdm\n",
    "\n",
    "# Paths\n",
    "dataset_path = r\"D:\\IIT\\Subjects\\(4606)Machine Vision\\CW\\Develo\\DataSet\\U-Net\\mat_data\"\n",
    "data_dir = dataset_path\n",
    "image_output = os.path.join(dataset_path, 'images')\n",
    "mask_output = os.path.join(dataset_path, 'masks')\n",
    "img_dim = 256  # resize dimension\n",
    "\n",
    "# Class map\n",
    "label_map = {\n",
    "    1: \"meningioma\",\n",
    "    2: \"glioma\",\n",
    "    3: \"pituitary\"\n",
    "}\n",
    "\n",
    "# Create output folders\n",
    "for class_name in label_map.values():\n",
    "    os.makedirs(os.path.join(image_output, class_name), exist_ok=True)\n",
    "    os.makedirs(os.path.join(mask_output, class_name), exist_ok=True)\n",
    "\n",
    "# Process .mat files\n",
    "for i, file in enumerate(tqdm(os.listdir(data_dir), desc=\"Processing\")):\n",
    "    file_path = os.path.join(data_dir, file)\n",
    "    try:\n",
    "        mat_file = hdf5storage.loadmat(file_path)['cjdata'][0]\n",
    "        label = int(mat_file[0])\n",
    "        class_name = label_map[label]\n",
    "\n",
    "        # Load image and mask\n",
    "        image = cv2.resize(mat_file[2], (img_dim, img_dim), interpolation=cv2.INTER_CUBIC)\n",
    "        mask = cv2.resize(mat_file[4].astype('uint8'), (img_dim, img_dim), interpolation=cv2.INTER_CUBIC)\n",
    "\n",
    "        # Normalize and save\n",
    "        image_norm = cv2.normalize(image, None, 0, 255, cv2.NORM_MINMAX).astype('uint8')\n",
    "        filename = os.path.splitext(file)[0] + '.png'\n",
    "\n",
    "        cv2.imwrite(os.path.join(image_output, class_name, filename), image_norm)\n",
    "        cv2.imwrite(os.path.join(mask_output, class_name, filename), mask * 255)\n",
    "\n",
    "    except Exception as e:\n",
    "        print(f\"Error processing {file}: {e}\")\n"
   ]
  }
 ],
 "metadata": {
  "kernelspec": {
   "display_name": "TenserFlow",
   "language": "python",
   "name": "python3"
  },
  "language_info": {
   "codemirror_mode": {
    "name": "ipython",
    "version": 3
   },
   "file_extension": ".py",
   "mimetype": "text/x-python",
   "name": "python",
   "nbconvert_exporter": "python",
   "pygments_lexer": "ipython3",
   "version": "3.10.13"
  }
 },
 "nbformat": 4,
 "nbformat_minor": 2
}
