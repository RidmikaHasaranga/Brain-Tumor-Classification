{
 "cells": [
  {
   "cell_type": "markdown",
   "id": "d7570910",
   "metadata": {},
   "source": [
    "# Addressing Class Imbalance and Splitting Dataset for U-Net"
   ]
  },
  {
   "cell_type": "code",
   "execution_count": 2,
   "id": "5bf3a5a1",
   "metadata": {},
   "outputs": [],
   "source": [
    "import os\n",
    "import cv2\n",
    "import numpy as np\n",
    "import random\n",
    "from tqdm import tqdm\n",
    "from tensorflow.keras.preprocessing.image import ImageDataGenerator\n",
    "import shutil\n"
   ]
  },
  {
   "cell_type": "code",
   "execution_count": 3,
   "id": "4ae7470b",
   "metadata": {},
   "outputs": [],
   "source": [
    "# Dataset paths\n",
    "base_path = r\"D:\\IIT\\Subjects\\(4606)Machine Vision\\CW\\Develo\\DataSet\\U-Net\\processed\"\n",
    "image_dir = os.path.join(base_path, \"images\")\n",
    "mask_dir = os.path.join(base_path, \"masks\")\n",
    "target_count = 1426  # Match the largest class (glioma)\n"
   ]
  },
  {
   "cell_type": "code",
   "execution_count": 4,
   "id": "cc113166",
   "metadata": {},
   "outputs": [],
   "source": [
    "datagen = ImageDataGenerator(\n",
    "    rotation_range=20,\n",
    "    zoom_range=0.15,\n",
    "    width_shift_range=0.1,\n",
    "    height_shift_range=0.1,\n",
    "    horizontal_flip=True,\n",
    "    fill_mode=\"nearest\"\n",
    ")\n",
    "\n",
    "def augment_class(class_name, current_count):\n",
    "    img_class_path = os.path.join(image_dir, class_name)\n",
    "    mask_class_path = os.path.join(mask_dir, class_name)\n",
    "    files = os.listdir(img_class_path)\n",
    "\n",
    "    needed = target_count - current_count\n",
    "    generated = 0\n",
    "    index = 0\n",
    "\n",
    "    while generated < needed:\n",
    "        img_name = files[index % len(files)]\n",
    "        img_path = os.path.join(img_class_path, img_name)\n",
    "        mask_path = os.path.join(mask_class_path, img_name)\n",
    "\n",
    "        img = cv2.imread(img_path, cv2.IMREAD_GRAYSCALE)\n",
    "        mask = cv2.imread(mask_path, cv2.IMREAD_GRAYSCALE)\n",
    "\n",
    "        img = np.expand_dims(img, axis=(0, -1))\n",
    "        mask = np.expand_dims(mask, axis=(0, -1))\n",
    "\n",
    "        seed = random.randint(0, 10000)\n",
    "        img_aug = datagen.flow(img, batch_size=1, seed=seed)\n",
    "        mask_aug = datagen.flow(mask, batch_size=1, seed=seed)\n",
    "\n",
    "        aug_img = next(img_aug)[0].astype(np.uint8)\n",
    "        aug_mask = next(mask_aug)[0].astype(np.uint8)\n",
    "\n",
    "        save_name = f\"aug_{generated}_{img_name}\"\n",
    "        cv2.imwrite(os.path.join(img_class_path, save_name), aug_img)\n",
    "        cv2.imwrite(os.path.join(mask_class_path, save_name), aug_mask)\n",
    "\n",
    "        generated += 1\n",
    "        index += 1\n",
    "\n",
    "    print(f\"✅ Augmented {needed} samples for {class_name}\")\n"
   ]
  },
  {
   "cell_type": "code",
   "execution_count": 5,
   "id": "15035672",
   "metadata": {},
   "outputs": [
    {
     "name": "stdout",
     "output_type": "stream",
     "text": [
      "✅ Augmented 718 samples for meningioma\n",
      "✅ Augmented 496 samples for pituitary\n"
     ]
    }
   ],
   "source": [
    "for class_name in os.listdir(image_dir):\n",
    "    img_count = len(os.listdir(os.path.join(image_dir, class_name)))\n",
    "    if img_count < target_count:\n",
    "        augment_class(class_name, img_count)\n"
   ]
  },
  {
   "cell_type": "code",
   "execution_count": 6,
   "id": "8c8380ee",
   "metadata": {},
   "outputs": [
    {
     "name": "stdout",
     "output_type": "stream",
     "text": [
      "✅ Split completed for class: glioma\n",
      "✅ Split completed for class: meningioma\n",
      "✅ Split completed for class: pituitary\n"
     ]
    }
   ],
   "source": [
    "splits = ['train', 'val', 'test']\n",
    "split_ratio = {'train': 0.7, 'val': 0.2, 'test': 0.1}\n",
    "split_base_dir = os.path.join(base_path, 'split')\n",
    "\n",
    "for class_name in os.listdir(image_dir):\n",
    "    img_files = os.listdir(os.path.join(image_dir, class_name))\n",
    "    random.shuffle(img_files)\n",
    "\n",
    "    total = len(img_files)\n",
    "    train_end = int(split_ratio['train'] * total)\n",
    "    val_end = train_end + int(split_ratio['val'] * total)\n",
    "\n",
    "    split_files = {\n",
    "        'train': img_files[:train_end],\n",
    "        'val': img_files[train_end:val_end],\n",
    "        'test': img_files[val_end:]\n",
    "    }\n",
    "\n",
    "    for split in splits:\n",
    "        os.makedirs(os.path.join(split_base_dir, split, 'images', class_name), exist_ok=True)\n",
    "        os.makedirs(os.path.join(split_base_dir, split, 'masks', class_name), exist_ok=True)\n",
    "\n",
    "        for file in split_files[split]:\n",
    "            src_img = os.path.join(image_dir, class_name, file)\n",
    "            src_mask = os.path.join(mask_dir, class_name, file)\n",
    "\n",
    "            dst_img = os.path.join(split_base_dir, split, 'images', class_name, file)\n",
    "            dst_mask = os.path.join(split_base_dir, split, 'masks', class_name, file)\n",
    "\n",
    "            shutil.copy(src_img, dst_img)\n",
    "            shutil.copy(src_mask, dst_mask)\n",
    "\n",
    "    print(f\"✅ Split completed for class: {class_name}\")\n"
   ]
  }
 ],
 "metadata": {
  "kernelspec": {
   "display_name": "TenserFlow",
   "language": "python",
   "name": "python3"
  },
  "language_info": {
   "codemirror_mode": {
    "name": "ipython",
    "version": 3
   },
   "file_extension": ".py",
   "mimetype": "text/x-python",
   "name": "python",
   "nbconvert_exporter": "python",
   "pygments_lexer": "ipython3",
   "version": "3.10.13"
  }
 },
 "nbformat": 4,
 "nbformat_minor": 5
}
