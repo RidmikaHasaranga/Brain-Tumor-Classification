{
 "cells": [
  {
   "cell_type": "markdown",
   "id": "0958f503",
   "metadata": {},
   "source": [
    "# Full Dataset Tumor Region Cropping\n",
    "\n",
    "This notebook processes all dataset splits (train, val, test), crops tumor regions using their masks, and saves them into structured folders inside `cropped/` by split and class."
   ]
  },
  {
   "cell_type": "code",
   "execution_count": 1,
   "id": "e6b2c3df",
   "metadata": {},
   "outputs": [],
   "source": [
    "import os\n",
    "import cv2\n",
    "import numpy as np\n",
    "from glob import glob\n",
    "from tqdm import tqdm\n",
    "\n",
    "# Base dataset path (update if needed)\n",
    "base_path = r\"D:\\IIT\\Subjects\\(4606)Machine Vision\\CW\\Develo\\DataSet\\U-Net\\processed\\split\"\n",
    "output_base = r\"D:\\IIT\\Subjects\\(4606)Machine Vision\\CW\\Develo\\DataSet\\U-Net\\cropped\"\n",
    "\n",
    "splits = ['train', 'val', 'test']\n",
    "classes = ['glioma', 'meningioma', 'pituitary']\n",
    "\n",
    "os.makedirs(output_base, exist_ok=True)\n"
   ]
  },
  {
   "cell_type": "code",
   "execution_count": 2,
   "id": "f48a3298",
   "metadata": {},
   "outputs": [],
   "source": [
    "def crop_tumor_region(image, mask):\n",
    "    contours, _ = cv2.findContours(mask, cv2.RETR_EXTERNAL, cv2.CHAIN_APPROX_SIMPLE)\n",
    "    if not contours:\n",
    "        return None\n",
    "    x, y, w, h = cv2.boundingRect(max(contours, key=cv2.contourArea))\n",
    "    cropped = image[y:y+h, x:x+w]\n",
    "    return cropped\n"
   ]
  },
  {
   "cell_type": "code",
   "execution_count": 3,
   "id": "d5413926",
   "metadata": {},
   "outputs": [
    {
     "name": "stderr",
     "output_type": "stream",
     "text": [
      "TRAIN - glioma: 100%|██████████| 998/998 [00:03<00:00, 293.23it/s]\n",
      "TRAIN - meningioma: 100%|██████████| 998/998 [00:04<00:00, 222.30it/s]\n",
      "TRAIN - pituitary: 100%|██████████| 998/998 [00:04<00:00, 221.81it/s]\n",
      "VAL - glioma: 100%|██████████| 285/285 [00:01<00:00, 218.68it/s]\n",
      "VAL - meningioma: 100%|██████████| 285/285 [00:02<00:00, 110.10it/s]\n",
      "VAL - pituitary: 100%|██████████| 285/285 [00:02<00:00, 120.90it/s]\n",
      "TEST - glioma: 100%|██████████| 143/143 [00:00<00:00, 282.57it/s]\n",
      "TEST - meningioma: 100%|██████████| 143/143 [00:01<00:00, 79.67it/s]\n",
      "TEST - pituitary: 100%|██████████| 143/143 [00:01<00:00, 98.70it/s] "
     ]
    },
    {
     "name": "stdout",
     "output_type": "stream",
     "text": [
      "✅ Done. Total cropped images saved: 4278\n"
     ]
    },
    {
     "name": "stderr",
     "output_type": "stream",
     "text": [
      "\n"
     ]
    }
   ],
   "source": [
    "total_count = 0\n",
    "for split in splits:\n",
    "    for cls in classes:\n",
    "        img_dir = os.path.join(base_path, split, \"images\", cls)\n",
    "        msk_dir = os.path.join(base_path, split, \"masks\", cls)\n",
    "        save_dir = os.path.join(output_base, split, cls)\n",
    "        os.makedirs(save_dir, exist_ok=True)\n",
    "\n",
    "        img_files = sorted(glob(os.path.join(img_dir, \"*.png\")))\n",
    "        for file_path in tqdm(img_files, desc=f\"{split.upper()} - {cls}\"):\n",
    "            filename = os.path.basename(file_path)\n",
    "            img = cv2.imread(file_path)\n",
    "            mask_path = os.path.join(msk_dir, filename)\n",
    "            mask = cv2.imread(mask_path, cv2.IMREAD_GRAYSCALE)\n",
    "\n",
    "            cropped = crop_tumor_region(img, mask)\n",
    "            if cropped is not None and cropped.size > 0:\n",
    "                resized = cv2.resize(cropped, (224, 224))\n",
    "                cv2.imwrite(os.path.join(save_dir, filename), resized)\n",
    "                total_count += 1\n",
    "\n",
    "print(f\"✅ Done. Total cropped images saved: {total_count}\")\n"
   ]
  }
 ],
 "metadata": {
  "kernelspec": {
   "display_name": "TenserFlow",
   "language": "python",
   "name": "python3"
  },
  "language_info": {
   "codemirror_mode": {
    "name": "ipython",
    "version": 3
   },
   "file_extension": ".py",
   "mimetype": "text/x-python",
   "name": "python",
   "nbconvert_exporter": "python",
   "pygments_lexer": "ipython3",
   "version": "3.10.13"
  }
 },
 "nbformat": 4,
 "nbformat_minor": 5
}
